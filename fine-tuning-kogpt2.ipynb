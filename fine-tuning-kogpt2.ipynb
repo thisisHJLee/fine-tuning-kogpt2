{
 "cells": [
  {
   "cell_type": "markdown",
   "metadata": {},
   "source": [
    "# 1. 라이브러리 import"
   ]
  },
  {
   "cell_type": "code",
   "execution_count": null,
   "metadata": {
    "pycharm": {
     "name": "#%%\n"
    }
   },
   "outputs": [
    {
     "name": "stderr",
     "output_type": "stream",
     "text": [
      "C:\\Users\\User\\anaconda3\\envs\\GPU1\\lib\\site-packages\\tqdm\\auto.py:21: TqdmWarning: IProgress not found. Please update jupyter and ipywidgets. See https://ipywidgets.readthedocs.io/en/stable/user_install.html\n",
      "  from .autonotebook import tqdm as notebook_tqdm\n"
     ]
    },
    {
     "name": "stdout",
     "output_type": "stream",
     "text": [
      "1.8.0\n",
      "4.20.1\n",
      "2.7.7\n"
     ]
    }
   ],
   "source": [
    "import torch\n",
    "import transformers\n",
    "from transformers import AutoModelWithLMHead, PreTrainedTokenizerFast\n",
    "from fastai.text.all import *\n",
    "import re\n",
    "import fastai\n",
    "\n",
    "print(torch.__version__)\n",
    "print(transformers.__version__)\n",
    "print( fastai.__version__)"
   ]
  },
  {
   "cell_type": "markdown",
   "metadata": {},
   "source": [
    "# 2. Fine-tuning 전 kogpt2"
   ]
  },
  {
   "cell_type": "code",
   "execution_count": 4,
   "metadata": {
    "pycharm": {
     "name": "#%%\n"
    }
   },
   "outputs": [
    {
     "name": "stderr",
     "output_type": "stream",
     "text": [
      "The tokenizer class you load from this checkpoint is not the same type as the class this function is called from. It may result in unexpected tokenization. \n",
      "The tokenizer class you load from this checkpoint is 'GPT2Tokenizer'. \n",
      "The class this function is called from is 'PreTrainedTokenizerFast'.\n",
      "C:\\Users\\User\\anaconda3\\envs\\GPU1\\lib\\site-packages\\transformers\\models\\auto\\modeling_auto.py:969: FutureWarning: The class `AutoModelWithLMHead` is deprecated and will be removed in a future version. Please use `AutoModelForCausalLM` for causal language models, `AutoModelForMaskedLM` for masked language models and `AutoModelForSeq2SeqLM` for encoder-decoder models.\n",
      "  warnings.warn(\n"
     ]
    },
    {
     "name": "stdout",
     "output_type": "stream",
     "text": [
      "매일 같은 옷을 입는 이유 너와 함께 입던 옷이라서 괜찮아.\n",
      "그런데 왜 이렇게 입고 다니냐고?\n",
      "너랑 같이 입어라!\n",
      "이거 뭐야? 이게 무슨 짓이야! 내가 니가 좋아하는 거잖아, 나 지금 어디 있어.</d> 오늘은 어떤 분을 소개해 드릴까요?\n",
      "오늘의 주제는 바로 '우리 시대의 가장 큰 문제'입니다.\n",
      "저도 그 문제에 대해서 좀 더 깊이 있게 고민하고 싶습니다.\n",
      "먼저, 김지영 기자 나와 있습니다.\n",
      "어서 오십시오, 안녕하세요.\n",
      "네. 저는 이제 막 고등학교를 졸업하고 대학 진학을 준비하던 중이었어요.\n",
      "그래서, 제가 대학교에\n"
     ]
    }
   ],
   "source": [
    "tokenizer = PreTrainedTokenizerFast.from_pretrained(\"skt/kogpt2-base-v2\",\n",
    "  bos_token='</s>', eos_token='</s>', unk_token='<unk>',\n",
    "  pad_token='<pad>', mask_token='<mask>') \n",
    "model = AutoModelWithLMHead.from_pretrained(\"skt/kogpt2-base-v2\")\n",
    "text = \"\"\" 매일 같은 옷을 입는 이유 너와 함께 입던 옷이라서 \"\"\"\n",
    "input_ids = tokenizer.encode(text)\n",
    "gen_ids = model.generate(torch.tensor([input_ids]),\n",
    "                           max_length=128,\n",
    "                           repetition_penalty=2.0,\n",
    "                           pad_token_id=tokenizer.pad_token_id,\n",
    "                           eos_token_id=tokenizer.eos_token_id,\n",
    "                           bos_token_id=tokenizer.bos_token_id,\n",
    "                           use_cache=True\n",
    "                        )\n",
    "generated = tokenizer.decode(gen_ids[0,:].tolist())\n",
    "print(generated)"
   ]
  },
  {
   "cell_type": "markdown",
   "metadata": {},
   "source": [
    "# 3. 데이터 전처리"
   ]
  },
  {
   "cell_type": "code",
   "execution_count": 5,
   "metadata": {
    "pycharm": {
     "name": "#%%\n"
    }
   },
   "outputs": [
    {
     "name": "stdout",
     "output_type": "stream",
     "text": [
      "18196\n",
      "18060\n",
      "11640\n",
      "11591\n"
     ]
    }
   ],
   "source": [
    "import os\n",
    "import re\n",
    "\n",
    "with open('./data/kr_lyrics_20.txt', 'r', encoding='utf-8') as f:\n",
    "    data = f.read()\n",
    "data=\" \".join(data.split())\n",
    "# print(len(data))\n",
    "data = data.replace('\\n|\\t', ' ')\n",
    "print(len(data))\n",
    "# new_sent = data.replace(\" \", '') # 띄어쓰기가 없는 문장 임의로 만들기\n",
    "# # print(len(new_sent))\n",
    "# spacing = Spacing()\n",
    "# kospacing_sent = spacing(new_sent) \n",
    "# print(len(kospacing_sent))\n",
    "data = re.sub('[-=+,#/\\:^$@*\\\"※~&%ㆍ』\\\\‘|\\(\\)\\[\\]\\<\\>`\\'…》]','', data)\n",
    "print(len(data))\n",
    "data = re.sub('[a-zA-Z]' , '', data)\n",
    "print(len(data))\n",
    "data = re.sub(r'[0-9]+' , '', data)\n",
    "print(len(data))\n",
    "# UnicodeDecodeError: 'cp949' codec can't decode byte 0xec in position 20: illegal multibyte sequence\n",
    "# 해당 에러 ->  encoding='utf-8' 넣어 주기"
   ]
  },
  {
   "cell_type": "code",
   "execution_count": 7,
   "metadata": {},
   "outputs": [],
   "source": [
    "# Open a text file in write mode\n",
    "with open('./data/kr_lyrics_20_preprocess.txt', 'w', encoding='utf-8') as file:\n",
    "    # Write the string to the file\n",
    "    file.write(data)"
   ]
  },
  {
   "cell_type": "markdown",
   "metadata": {},
   "source": [
    "# 4. 데이터 로드 & Tokenize"
   ]
  },
  {
   "cell_type": "code",
   "execution_count": 8,
   "metadata": {
    "pycharm": {
     "name": "#%%\n"
    }
   },
   "outputs": [],
   "source": [
    "with open('./data/kr_lyrics_20_preprocess.txt', 'r', encoding='utf-8') as f:\n",
    "    data = f.read()\n",
    "\n",
    "#model input output tokenizer\n",
    "class TransformersTokenizer(Transform):\n",
    "   def __init__(self, tokenizer): self.tokenizer = tokenizer\n",
    "   def encodes(self, x): \n",
    "       toks = self.tokenizer.tokenize(x)\n",
    "       return tensor(self.tokenizer.convert_tokens_to_ids(toks))\n",
    "   def decodes(self, x): return TitledStr(self.tokenizer.decode(x.cpu().numpy()))\n",
    "\n",
    "#split data\n",
    "train=data[:int(len(data)*0.9)]\n",
    "test=data[int(len(data)*0.9):]\n",
    "splits = [[0],[1]]\n",
    "\n",
    "#init dataloader\n",
    "tls = TfmdLists([train,test], TransformersTokenizer(tokenizer), splits=splits, dl_type=LMDataLoader)\n",
    "dls = tls.dataloaders(bs=4, seq_len=128)"
   ]
  },
  {
   "cell_type": "markdown",
   "metadata": {},
   "source": [
    "# 5. 모델 훈련"
   ]
  },
  {
   "cell_type": "code",
   "execution_count": 9,
   "metadata": {
    "pycharm": {
     "name": "#%%\n"
    }
   },
   "outputs": [
    {
     "data": {
      "text/html": [
       "\n",
       "<style>\n",
       "    /* Turns off some styling */\n",
       "    progress {\n",
       "        /* gets rid of default border in Firefox and Opera. */\n",
       "        border: none;\n",
       "        /* Needs to be in here for Safari polyfill so background images work as expected. */\n",
       "        background-size: auto;\n",
       "    }\n",
       "    progress:not([value]), progress:not([value])::-webkit-progress-bar {\n",
       "        background: repeating-linear-gradient(45deg, #7e7e7e, #7e7e7e 10px, #5c5c5c 10px, #5c5c5c 20px);\n",
       "    }\n",
       "    .progress-bar-interrupted, .progress-bar-interrupted::-webkit-progress-bar {\n",
       "        background: #F44336;\n",
       "    }\n",
       "</style>\n"
      ],
      "text/plain": [
       "<IPython.core.display.HTML object>"
      ]
     },
     "metadata": {},
     "output_type": "display_data"
    },
    {
     "data": {
      "text/html": [],
      "text/plain": [
       "<IPython.core.display.HTML object>"
      ]
     },
     "metadata": {},
     "output_type": "display_data"
    },
    {
     "name": "stdout",
     "output_type": "stream",
     "text": [
      "SuggestedLRs(valley=5.248074739938602e-05)\n"
     ]
    },
    {
     "data": {
      "text/html": [
       "\n",
       "<style>\n",
       "    /* Turns off some styling */\n",
       "    progress {\n",
       "        /* gets rid of default border in Firefox and Opera. */\n",
       "        border: none;\n",
       "        /* Needs to be in here for Safari polyfill so background images work as expected. */\n",
       "        background-size: auto;\n",
       "    }\n",
       "    progress:not([value]), progress:not([value])::-webkit-progress-bar {\n",
       "        background: repeating-linear-gradient(45deg, #7e7e7e, #7e7e7e 10px, #5c5c5c 10px, #5c5c5c 20px);\n",
       "    }\n",
       "    .progress-bar-interrupted, .progress-bar-interrupted::-webkit-progress-bar {\n",
       "        background: #F44336;\n",
       "    }\n",
       "</style>\n"
      ],
      "text/plain": [
       "<IPython.core.display.HTML object>"
      ]
     },
     "metadata": {},
     "output_type": "display_data"
    },
    {
     "data": {
      "text/html": [
       "<table border=\"1\" class=\"dataframe\">\n",
       "  <thead>\n",
       "    <tr style=\"text-align: left;\">\n",
       "      <th>epoch</th>\n",
       "      <th>train_loss</th>\n",
       "      <th>valid_loss</th>\n",
       "      <th>perplexity</th>\n",
       "      <th>time</th>\n",
       "    </tr>\n",
       "  </thead>\n",
       "  <tbody>\n",
       "    <tr>\n",
       "      <td>0</td>\n",
       "      <td>3.859064</td>\n",
       "      <td>3.869008</td>\n",
       "      <td>47.894833</td>\n",
       "      <td>00:02</td>\n",
       "    </tr>\n",
       "    <tr>\n",
       "      <td>1</td>\n",
       "      <td>3.666029</td>\n",
       "      <td>3.755683</td>\n",
       "      <td>42.763424</td>\n",
       "      <td>00:02</td>\n",
       "    </tr>\n",
       "    <tr>\n",
       "      <td>2</td>\n",
       "      <td>3.503466</td>\n",
       "      <td>3.680389</td>\n",
       "      <td>39.661835</td>\n",
       "      <td>00:02</td>\n",
       "    </tr>\n",
       "    <tr>\n",
       "      <td>3</td>\n",
       "      <td>3.319093</td>\n",
       "      <td>3.661211</td>\n",
       "      <td>38.908424</td>\n",
       "      <td>00:02</td>\n",
       "    </tr>\n",
       "    <tr>\n",
       "      <td>4</td>\n",
       "      <td>3.095073</td>\n",
       "      <td>3.776760</td>\n",
       "      <td>43.674313</td>\n",
       "      <td>00:02</td>\n",
       "    </tr>\n",
       "    <tr>\n",
       "      <td>5</td>\n",
       "      <td>2.836806</td>\n",
       "      <td>3.829710</td>\n",
       "      <td>46.049160</td>\n",
       "      <td>00:02</td>\n",
       "    </tr>\n",
       "    <tr>\n",
       "      <td>6</td>\n",
       "      <td>2.546045</td>\n",
       "      <td>3.877259</td>\n",
       "      <td>48.291679</td>\n",
       "      <td>00:02</td>\n",
       "    </tr>\n",
       "    <tr>\n",
       "      <td>7</td>\n",
       "      <td>2.255402</td>\n",
       "      <td>4.020679</td>\n",
       "      <td>55.738914</td>\n",
       "      <td>00:02</td>\n",
       "    </tr>\n",
       "    <tr>\n",
       "      <td>8</td>\n",
       "      <td>1.981694</td>\n",
       "      <td>4.424123</td>\n",
       "      <td>83.439583</td>\n",
       "      <td>00:02</td>\n",
       "    </tr>\n",
       "    <tr>\n",
       "      <td>9</td>\n",
       "      <td>1.736849</td>\n",
       "      <td>4.199149</td>\n",
       "      <td>66.629585</td>\n",
       "      <td>00:02</td>\n",
       "    </tr>\n",
       "    <tr>\n",
       "      <td>10</td>\n",
       "      <td>1.518660</td>\n",
       "      <td>4.302315</td>\n",
       "      <td>73.870590</td>\n",
       "      <td>00:02</td>\n",
       "    </tr>\n",
       "    <tr>\n",
       "      <td>11</td>\n",
       "      <td>1.308650</td>\n",
       "      <td>4.513585</td>\n",
       "      <td>91.248322</td>\n",
       "      <td>00:02</td>\n",
       "    </tr>\n",
       "    <tr>\n",
       "      <td>12</td>\n",
       "      <td>1.124181</td>\n",
       "      <td>4.547727</td>\n",
       "      <td>94.417519</td>\n",
       "      <td>00:02</td>\n",
       "    </tr>\n",
       "    <tr>\n",
       "      <td>13</td>\n",
       "      <td>0.966892</td>\n",
       "      <td>4.397573</td>\n",
       "      <td>81.253387</td>\n",
       "      <td>00:02</td>\n",
       "    </tr>\n",
       "    <tr>\n",
       "      <td>14</td>\n",
       "      <td>0.833669</td>\n",
       "      <td>4.513675</td>\n",
       "      <td>91.256546</td>\n",
       "      <td>00:02</td>\n",
       "    </tr>\n",
       "    <tr>\n",
       "      <td>15</td>\n",
       "      <td>0.726419</td>\n",
       "      <td>4.458573</td>\n",
       "      <td>86.364166</td>\n",
       "      <td>00:02</td>\n",
       "    </tr>\n",
       "    <tr>\n",
       "      <td>16</td>\n",
       "      <td>0.636575</td>\n",
       "      <td>4.567523</td>\n",
       "      <td>96.305313</td>\n",
       "      <td>00:02</td>\n",
       "    </tr>\n",
       "    <tr>\n",
       "      <td>17</td>\n",
       "      <td>0.567915</td>\n",
       "      <td>4.506501</td>\n",
       "      <td>90.604256</td>\n",
       "      <td>00:02</td>\n",
       "    </tr>\n",
       "    <tr>\n",
       "      <td>18</td>\n",
       "      <td>0.507319</td>\n",
       "      <td>4.752051</td>\n",
       "      <td>115.821632</td>\n",
       "      <td>00:02</td>\n",
       "    </tr>\n",
       "    <tr>\n",
       "      <td>19</td>\n",
       "      <td>0.465745</td>\n",
       "      <td>4.495708</td>\n",
       "      <td>89.631645</td>\n",
       "      <td>00:02</td>\n",
       "    </tr>\n",
       "    <tr>\n",
       "      <td>20</td>\n",
       "      <td>0.422374</td>\n",
       "      <td>4.803159</td>\n",
       "      <td>121.894905</td>\n",
       "      <td>00:02</td>\n",
       "    </tr>\n",
       "    <tr>\n",
       "      <td>21</td>\n",
       "      <td>0.383296</td>\n",
       "      <td>4.576804</td>\n",
       "      <td>97.203255</td>\n",
       "      <td>00:02</td>\n",
       "    </tr>\n",
       "    <tr>\n",
       "      <td>22</td>\n",
       "      <td>0.355540</td>\n",
       "      <td>4.728286</td>\n",
       "      <td>113.101517</td>\n",
       "      <td>00:02</td>\n",
       "    </tr>\n",
       "    <tr>\n",
       "      <td>23</td>\n",
       "      <td>0.334385</td>\n",
       "      <td>4.721807</td>\n",
       "      <td>112.371178</td>\n",
       "      <td>00:02</td>\n",
       "    </tr>\n",
       "    <tr>\n",
       "      <td>24</td>\n",
       "      <td>0.318927</td>\n",
       "      <td>4.613023</td>\n",
       "      <td>100.788353</td>\n",
       "      <td>00:02</td>\n",
       "    </tr>\n",
       "    <tr>\n",
       "      <td>25</td>\n",
       "      <td>0.302374</td>\n",
       "      <td>4.701275</td>\n",
       "      <td>110.087433</td>\n",
       "      <td>00:02</td>\n",
       "    </tr>\n",
       "    <tr>\n",
       "      <td>26</td>\n",
       "      <td>0.276516</td>\n",
       "      <td>4.664756</td>\n",
       "      <td>106.139664</td>\n",
       "      <td>00:02</td>\n",
       "    </tr>\n",
       "    <tr>\n",
       "      <td>27</td>\n",
       "      <td>0.253721</td>\n",
       "      <td>4.626246</td>\n",
       "      <td>102.129990</td>\n",
       "      <td>00:02</td>\n",
       "    </tr>\n",
       "    <tr>\n",
       "      <td>28</td>\n",
       "      <td>0.236511</td>\n",
       "      <td>4.606781</td>\n",
       "      <td>100.161263</td>\n",
       "      <td>00:02</td>\n",
       "    </tr>\n",
       "    <tr>\n",
       "      <td>29</td>\n",
       "      <td>0.221417</td>\n",
       "      <td>4.752172</td>\n",
       "      <td>115.835663</td>\n",
       "      <td>00:02</td>\n",
       "    </tr>\n",
       "    <tr>\n",
       "      <td>30</td>\n",
       "      <td>0.209249</td>\n",
       "      <td>4.615183</td>\n",
       "      <td>101.006294</td>\n",
       "      <td>00:02</td>\n",
       "    </tr>\n",
       "    <tr>\n",
       "      <td>31</td>\n",
       "      <td>0.203518</td>\n",
       "      <td>4.676232</td>\n",
       "      <td>107.364746</td>\n",
       "      <td>00:02</td>\n",
       "    </tr>\n",
       "    <tr>\n",
       "      <td>32</td>\n",
       "      <td>0.192843</td>\n",
       "      <td>4.600806</td>\n",
       "      <td>99.564552</td>\n",
       "      <td>00:02</td>\n",
       "    </tr>\n",
       "    <tr>\n",
       "      <td>33</td>\n",
       "      <td>0.181106</td>\n",
       "      <td>4.674440</td>\n",
       "      <td>107.172577</td>\n",
       "      <td>00:02</td>\n",
       "    </tr>\n",
       "    <tr>\n",
       "      <td>34</td>\n",
       "      <td>0.166842</td>\n",
       "      <td>4.775332</td>\n",
       "      <td>118.549660</td>\n",
       "      <td>00:02</td>\n",
       "    </tr>\n",
       "    <tr>\n",
       "      <td>35</td>\n",
       "      <td>0.153942</td>\n",
       "      <td>4.798533</td>\n",
       "      <td>121.332344</td>\n",
       "      <td>00:02</td>\n",
       "    </tr>\n",
       "    <tr>\n",
       "      <td>36</td>\n",
       "      <td>0.144569</td>\n",
       "      <td>4.832947</td>\n",
       "      <td>125.580536</td>\n",
       "      <td>00:02</td>\n",
       "    </tr>\n",
       "    <tr>\n",
       "      <td>37</td>\n",
       "      <td>0.135991</td>\n",
       "      <td>4.845393</td>\n",
       "      <td>127.153267</td>\n",
       "      <td>00:02</td>\n",
       "    </tr>\n",
       "    <tr>\n",
       "      <td>38</td>\n",
       "      <td>0.128135</td>\n",
       "      <td>4.798774</td>\n",
       "      <td>121.361511</td>\n",
       "      <td>00:02</td>\n",
       "    </tr>\n",
       "    <tr>\n",
       "      <td>39</td>\n",
       "      <td>0.120476</td>\n",
       "      <td>4.853618</td>\n",
       "      <td>128.203354</td>\n",
       "      <td>00:02</td>\n",
       "    </tr>\n",
       "    <tr>\n",
       "      <td>40</td>\n",
       "      <td>0.115244</td>\n",
       "      <td>4.818699</td>\n",
       "      <td>123.803902</td>\n",
       "      <td>00:02</td>\n",
       "    </tr>\n",
       "    <tr>\n",
       "      <td>41</td>\n",
       "      <td>0.108872</td>\n",
       "      <td>4.851295</td>\n",
       "      <td>127.905861</td>\n",
       "      <td>00:02</td>\n",
       "    </tr>\n",
       "    <tr>\n",
       "      <td>42</td>\n",
       "      <td>0.103669</td>\n",
       "      <td>4.866696</td>\n",
       "      <td>129.891037</td>\n",
       "      <td>00:02</td>\n",
       "    </tr>\n",
       "    <tr>\n",
       "      <td>43</td>\n",
       "      <td>0.099229</td>\n",
       "      <td>4.875147</td>\n",
       "      <td>130.993393</td>\n",
       "      <td>00:02</td>\n",
       "    </tr>\n",
       "    <tr>\n",
       "      <td>44</td>\n",
       "      <td>0.096286</td>\n",
       "      <td>4.890706</td>\n",
       "      <td>133.047485</td>\n",
       "      <td>00:02</td>\n",
       "    </tr>\n",
       "    <tr>\n",
       "      <td>45</td>\n",
       "      <td>0.092872</td>\n",
       "      <td>4.897613</td>\n",
       "      <td>133.969559</td>\n",
       "      <td>00:02</td>\n",
       "    </tr>\n",
       "    <tr>\n",
       "      <td>46</td>\n",
       "      <td>0.090333</td>\n",
       "      <td>4.899210</td>\n",
       "      <td>134.183731</td>\n",
       "      <td>00:02</td>\n",
       "    </tr>\n",
       "    <tr>\n",
       "      <td>47</td>\n",
       "      <td>0.087764</td>\n",
       "      <td>4.899186</td>\n",
       "      <td>134.180527</td>\n",
       "      <td>00:02</td>\n",
       "    </tr>\n",
       "    <tr>\n",
       "      <td>48</td>\n",
       "      <td>0.085497</td>\n",
       "      <td>4.899230</td>\n",
       "      <td>134.186417</td>\n",
       "      <td>00:02</td>\n",
       "    </tr>\n",
       "    <tr>\n",
       "      <td>49</td>\n",
       "      <td>0.083217</td>\n",
       "      <td>4.899180</td>\n",
       "      <td>134.179764</td>\n",
       "      <td>00:02</td>\n",
       "    </tr>\n",
       "  </tbody>\n",
       "</table>"
      ],
      "text/plain": [
       "<IPython.core.display.HTML object>"
      ]
     },
     "metadata": {},
     "output_type": "display_data"
    },
    {
     "data": {
      "image/png": "[encoded data removed]",
      "text/plain": [
       "<Figure size 640x480 with 1 Axes>"
      ]
     },
     "metadata": {},
     "output_type": "display_data"
    }
   ],
   "source": [
    "#gpt2 ouput is tuple, we need just one val\n",
    "class DropOutput(Callback):\n",
    "  def after_pred(self): self.learn.pred = self.pred[0]\n",
    "      \n",
    "      \n",
    "learn = Learner(dls, model, loss_func=CrossEntropyLossFlat(), \n",
    "cbs=[DropOutput], metrics=Perplexity()).to_fp16()\n",
    "\n",
    "lr=learn.lr_find()\n",
    "print(lr)\n",
    "learn.fit_one_cycle(50, lr)"
   ]
  },
  {
   "cell_type": "markdown",
   "metadata": {},
   "source": [
    "# 6. Fine-tuning 결과"
   ]
  },
  {
   "cell_type": "code",
   "execution_count": 10,
   "metadata": {},
   "outputs": [
    {
     "data": {
      "text/plain": [
       "'매일 같은 옷을 입는 이유 너와 함께 입던 옷이라서 괜히 어색할까 혼자 애만 태우다 끝끝내 망설여왔던 순간 알잖아 나 무뚝하고 말도 없는 걸 서툰 표현이 쑥스러워서 쓰다가 지울 문자도 없이 떠나 이대로는 무엇 하러 아등바등,해줘 그때 그 여름을 틀어줬지 꼴리는 대로 해봤자 별 것 아닌 일에도 점점 내 습관이 돼버린 널 보면서 심장이 뛰고 싶다고 막 짜증낼 힘조차 없어 여유마저 없고 뭐 그리 아니꼬와, 가던 길 그냥 가 왜들 그래 이리 혼란스러워 이러'"
      ]
     },
     "execution_count": 10,
     "metadata": {},
     "output_type": "execute_result"
    }
   ],
   "source": [
    "prompt=\" 매일 같은 옷을 입는 이유 너와 함께 입던 옷이라서 \"\n",
    "prompt_ids = tokenizer.encode(prompt)\n",
    "inp = tensor(prompt_ids)[None].cuda()\n",
    "preds = learn.model.generate(inp,\n",
    "                           max_length=128,\n",
    "                           pad_token_id=tokenizer.pad_token_id,\n",
    "                           eos_token_id=tokenizer.eos_token_id,\n",
    "                           bos_token_id=tokenizer.bos_token_id,\n",
    "                           repetition_penalty=2.0,       \n",
    "                           use_cache=True\n",
    "                          ) \n",
    "tokenizer.decode(preds[0].cpu().numpy())"
   ]
  },
  {
   "cell_type": "markdown",
   "metadata": {},
   "source": [
    "# 7. 모델 저장"
   ]
  },
  {
   "cell_type": "code",
   "execution_count": 11,
   "metadata": {},
   "outputs": [],
   "source": [
    "learn.model.save_pretrained(\"./models/kogpt2_backup_50\")"
   ]
  },
  {
   "cell_type": "code",
   "execution_count": null,
   "metadata": {},
   "outputs": [],
   "source": []
  }
 ],
 "metadata": {
  "kernelspec": {
   "display_name": "Python 3 (ipykernel)",
   "language": "python",
   "name": "python3"
  },
  "language_info": {
   "codemirror_mode": {
    "name": "ipython",
    "version": 3
   },
   "file_extension": ".py",
   "mimetype": "text/x-python",
   "name": "python",
   "nbconvert_exporter": "python",
   "pygments_lexer": "ipython3",
   "version": "3.9.13"
  },
  "vscode": {
   "interpreter": {
    "hash": "f82e657652c1f559b98fb141e76bcce2ec0f3958c3a6000b4409466ee456e5f2"
   }
  }
 },
 "nbformat": 4,
 "nbformat_minor": 4
}
